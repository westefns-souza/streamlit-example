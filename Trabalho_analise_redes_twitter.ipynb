{
  "cells": [
    {
      "cell_type": "markdown",
      "metadata": {
        "id": "view-in-github",
        "colab_type": "text"
      },
      "source": [
        "<a href=\"https://colab.research.google.com/github/westefns-souza/streamlit-example/blob/master/Trabalho_analise_redes_twitter.ipynb\" target=\"_parent\"><img src=\"https://colab.research.google.com/assets/colab-badge.svg\" alt=\"Open In Colab\"/></a>"
      ]
    },
    {
      "cell_type": "markdown",
      "source": [
        "# Analise da base de dados do twitter"
      ],
      "metadata": {
        "id": "RxfZVGK5xaRP"
      }
    },
    {
      "cell_type": "markdown",
      "source": [],
      "metadata": {
        "id": "E3xyjp_GxiBy"
      }
    },
    {
      "cell_type": "code",
      "execution_count": null,
      "metadata": {
        "id": "egbaf6W3Ph62"
      },
      "outputs": [],
      "source": [
        "!pip install pyvis"
      ]
    },
    {
      "cell_type": "code",
      "execution_count": null,
      "metadata": {
        "id": "crtAHFjBPviD"
      },
      "outputs": [],
      "source": [
        "import re\n",
        "import pandas as pd\n",
        "import networkx as nx\n",
        "from pyvis.network import Network\n",
        "from IPython.core.display import display, HTML\n",
        "import matplotlib.pyplot as plt\n",
        "import csv"
      ]
    },
    {
      "cell_type": "markdown",
      "source": [
        "# Limpando a base\n",
        "Como a base não tinha um csv bom, tive que limpar principalmente a coluna 'friends' que estava como um array separado por vírgula, com isso a leitura quebrava no momento de abrir e ler os dados com o pandas. \n",
        "\n",
        "Achei Uma função de substituir_virgulas usando regex para identicar apenas as frases dentro de um array [ ]. "
      ],
      "metadata": {
        "id": "Ieq6LqDeyAyr"
      }
    },
    {
      "cell_type": "code",
      "execution_count": null,
      "metadata": {
        "id": "N2tMJjuqVctw"
      },
      "outputs": [],
      "source": [
        "def substituir_virgulas(texto):\n",
        "    padrao = r'\\[(.*?)\\]'  # padrão para encontrar o texto entre colchetes\n",
        "    matches = re.findall(padrao, texto)  # encontrar todas as ocorrências entre colchetes\n",
        "    for match in matches:\n",
        "        novo_texto = match.replace(',', ';')  # substituir vírgulas por ponto-e-vírgula\n",
        "        texto = texto.replace(match, novo_texto)  # substituir a ocorrência original pelo novo texto\n",
        "    return texto"
      ]
    },
    {
      "cell_type": "markdown",
      "source": [
        "## Criando um novo arquivo já corrigido\n",
        "\n",
        "Para que não precise trabalhar com os dados em memória sempre"
      ],
      "metadata": {
        "id": "CRiR-uOSyoEh"
      }
    },
    {
      "cell_type": "code",
      "execution_count": null,
      "metadata": {
        "id": "yDAo4mc3TVVP"
      },
      "outputs": [],
      "source": [
        "with open(\"/content/data_twitter.csv\") as file:\n",
        "  with open(\"/content/data_twitter_formated.csv\", \"w\") as new_file:\n",
        "      for line in file:\n",
        "        new_file.write(substituir_virgulas(line))"
      ]
    },
    {
      "cell_type": "markdown",
      "source": [
        "Carregando os dados do arquivo formatado para um DateFrame"
      ],
      "metadata": {
        "id": "Cm4VdyXsy3d0"
      }
    },
    {
      "cell_type": "code",
      "execution_count": null,
      "metadata": {
        "colab": {
          "base_uri": "https://localhost:8080/",
          "height": 835
        },
        "id": "kjL3G-DxP5gt",
        "outputId": "58c85d9f-7926-4f69-a0f2-0d5876cf8f2b"
      },
      "outputs": [
        {
          "output_type": "execute_result",
          "data": {
            "text/plain": [
              "                       id       screenName                       tags  \\\n",
              "0              1969527638  LlngoMakeEmCum_      [ \"#nationaldogday\" ]   \n",
              "1                51878493     _notmichelle      [ \"#nationaldogday\" ]   \n",
              "2              1393409100        jesseayye              [ \"#narcos\" ]   \n",
              "3               232891415     MrBrianLloyd         [ \"#gloryoutnow\" ]   \n",
              "4      710130422907207680    sarahdorat_16      [ \"#nationaldogday\" ]   \n",
              "...                   ...              ...                        ...   \n",
              "10223          3191601721          LuffBri  [ \"#respecttylerjoseph\" ]   \n",
              "10224          1390557145      giselleali_      [ \"#nationaldogday\" ]   \n",
              "10225          1908002540       DukesBoots      [ \"#nationaldogday\" ]   \n",
              "10226            31087443       aniyah2105      [ \"#nationaldogday\" ]   \n",
              "10227          2557798112      chrisvk3317      [ \"#nationaldogday\" ]   \n",
              "\n",
              "                                                  avatar  followersCount  \\\n",
              "0      http://pbs.twimg.com/profile_images/5342862178...             319   \n",
              "1      http://pbs.twimg.com/profile_images/7619776021...             275   \n",
              "2      http://pbs.twimg.com/profile_images/7132829382...             120   \n",
              "3      http://pbs.twimg.com/profile_images/1334406683...             492   \n",
              "4      http://pbs.twimg.com/profile_images/7671805202...             128   \n",
              "...                                                  ...             ...   \n",
              "10223  http://pbs.twimg.com/profile_images/7686781088...             197   \n",
              "10224  http://pbs.twimg.com/profile_images/7450518741...             252   \n",
              "10225  http://pbs.twimg.com/profile_images/5807645934...            1070   \n",
              "10226  http://pbs.twimg.com/profile_images/6214343401...            1127   \n",
              "10227  http://pbs.twimg.com/profile_images/7638113776...             168   \n",
              "\n",
              "       friendsCount lang       lastSeen             tweetId  \\\n",
              "0               112   en  1472271687519  769310701580083200   \n",
              "1               115   en  1472270622663  769309490038439936   \n",
              "2               107   en  1472804144409  771622623583186944   \n",
              "3               325   en  1472269186776  769308131696467969   \n",
              "4               218   en  1472271397356  769309769144283137   \n",
              "...             ...  ...            ...                 ...   \n",
              "10223           428   en  1472258135177  769297456156647424   \n",
              "10224           213   en  1472257000572  769297455670329344   \n",
              "10225          1984   en  1472257754077  769297455506661376   \n",
              "10226          2369   en  1472257002155  769297457159151616   \n",
              "10227           723   en  1472257315184  769297601099206656   \n",
              "\n",
              "                                                 friends  \n",
              "0      [ \"1969574754\"; \"1969295556\"; \"1969284056\"; \"1...  \n",
              "1      [ \"60789485\"; \"2420931980\"; \"2899776756\"; \"127...  \n",
              "2      [ \"86868062\"; \"19697415\"; \"2998836604\"; \"45629...  \n",
              "3      [ \"361335082\"; \"1405248468\"; \"24626354\"; \"7256...  \n",
              "4      [ \"1571896093\"; \"768938323612008448\"; \"2548665...  \n",
              "...                                                  ...  \n",
              "10223  [ \"3410690243\"; \"1319599614\"; \"391013063\"; \"33...  \n",
              "10224  [ \"21526685\"; \"760567715979464704\"; \"722898489...  \n",
              "10225  [ \"154564075\"; \"114774201\"; \"338299807\"; \"7343...  \n",
              "10226  [ \"607042548\"; \"14942684\"; \"768509276130127872...  \n",
              "10227  [ \"1961640032\"; \"750396692696928256\"; \"7378308...  \n",
              "\n",
              "[10228 rows x 10 columns]"
            ],
            "text/html": [
              "\n",
              "  <div id=\"df-12762021-3218-46d3-8cdb-ed49fd145b79\">\n",
              "    <div class=\"colab-df-container\">\n",
              "      <div>\n",
              "<style scoped>\n",
              "    .dataframe tbody tr th:only-of-type {\n",
              "        vertical-align: middle;\n",
              "    }\n",
              "\n",
              "    .dataframe tbody tr th {\n",
              "        vertical-align: top;\n",
              "    }\n",
              "\n",
              "    .dataframe thead th {\n",
              "        text-align: right;\n",
              "    }\n",
              "</style>\n",
              "<table border=\"1\" class=\"dataframe\">\n",
              "  <thead>\n",
              "    <tr style=\"text-align: right;\">\n",
              "      <th></th>\n",
              "      <th>id</th>\n",
              "      <th>screenName</th>\n",
              "      <th>tags</th>\n",
              "      <th>avatar</th>\n",
              "      <th>followersCount</th>\n",
              "      <th>friendsCount</th>\n",
              "      <th>lang</th>\n",
              "      <th>lastSeen</th>\n",
              "      <th>tweetId</th>\n",
              "      <th>friends</th>\n",
              "    </tr>\n",
              "  </thead>\n",
              "  <tbody>\n",
              "    <tr>\n",
              "      <th>0</th>\n",
              "      <td>1969527638</td>\n",
              "      <td>LlngoMakeEmCum_</td>\n",
              "      <td>[ \"#nationaldogday\" ]</td>\n",
              "      <td>http://pbs.twimg.com/profile_images/5342862178...</td>\n",
              "      <td>319</td>\n",
              "      <td>112</td>\n",
              "      <td>en</td>\n",
              "      <td>1472271687519</td>\n",
              "      <td>769310701580083200</td>\n",
              "      <td>[ \"1969574754\"; \"1969295556\"; \"1969284056\"; \"1...</td>\n",
              "    </tr>\n",
              "    <tr>\n",
              "      <th>1</th>\n",
              "      <td>51878493</td>\n",
              "      <td>_notmichelle</td>\n",
              "      <td>[ \"#nationaldogday\" ]</td>\n",
              "      <td>http://pbs.twimg.com/profile_images/7619776021...</td>\n",
              "      <td>275</td>\n",
              "      <td>115</td>\n",
              "      <td>en</td>\n",
              "      <td>1472270622663</td>\n",
              "      <td>769309490038439936</td>\n",
              "      <td>[ \"60789485\"; \"2420931980\"; \"2899776756\"; \"127...</td>\n",
              "    </tr>\n",
              "    <tr>\n",
              "      <th>2</th>\n",
              "      <td>1393409100</td>\n",
              "      <td>jesseayye</td>\n",
              "      <td>[ \"#narcos\" ]</td>\n",
              "      <td>http://pbs.twimg.com/profile_images/7132829382...</td>\n",
              "      <td>120</td>\n",
              "      <td>107</td>\n",
              "      <td>en</td>\n",
              "      <td>1472804144409</td>\n",
              "      <td>771622623583186944</td>\n",
              "      <td>[ \"86868062\"; \"19697415\"; \"2998836604\"; \"45629...</td>\n",
              "    </tr>\n",
              "    <tr>\n",
              "      <th>3</th>\n",
              "      <td>232891415</td>\n",
              "      <td>MrBrianLloyd</td>\n",
              "      <td>[ \"#gloryoutnow\" ]</td>\n",
              "      <td>http://pbs.twimg.com/profile_images/1334406683...</td>\n",
              "      <td>492</td>\n",
              "      <td>325</td>\n",
              "      <td>en</td>\n",
              "      <td>1472269186776</td>\n",
              "      <td>769308131696467969</td>\n",
              "      <td>[ \"361335082\"; \"1405248468\"; \"24626354\"; \"7256...</td>\n",
              "    </tr>\n",
              "    <tr>\n",
              "      <th>4</th>\n",
              "      <td>710130422907207680</td>\n",
              "      <td>sarahdorat_16</td>\n",
              "      <td>[ \"#nationaldogday\" ]</td>\n",
              "      <td>http://pbs.twimg.com/profile_images/7671805202...</td>\n",
              "      <td>128</td>\n",
              "      <td>218</td>\n",
              "      <td>en</td>\n",
              "      <td>1472271397356</td>\n",
              "      <td>769309769144283137</td>\n",
              "      <td>[ \"1571896093\"; \"768938323612008448\"; \"2548665...</td>\n",
              "    </tr>\n",
              "    <tr>\n",
              "      <th>...</th>\n",
              "      <td>...</td>\n",
              "      <td>...</td>\n",
              "      <td>...</td>\n",
              "      <td>...</td>\n",
              "      <td>...</td>\n",
              "      <td>...</td>\n",
              "      <td>...</td>\n",
              "      <td>...</td>\n",
              "      <td>...</td>\n",
              "      <td>...</td>\n",
              "    </tr>\n",
              "    <tr>\n",
              "      <th>10223</th>\n",
              "      <td>3191601721</td>\n",
              "      <td>LuffBri</td>\n",
              "      <td>[ \"#respecttylerjoseph\" ]</td>\n",
              "      <td>http://pbs.twimg.com/profile_images/7686781088...</td>\n",
              "      <td>197</td>\n",
              "      <td>428</td>\n",
              "      <td>en</td>\n",
              "      <td>1472258135177</td>\n",
              "      <td>769297456156647424</td>\n",
              "      <td>[ \"3410690243\"; \"1319599614\"; \"391013063\"; \"33...</td>\n",
              "    </tr>\n",
              "    <tr>\n",
              "      <th>10224</th>\n",
              "      <td>1390557145</td>\n",
              "      <td>giselleali_</td>\n",
              "      <td>[ \"#nationaldogday\" ]</td>\n",
              "      <td>http://pbs.twimg.com/profile_images/7450518741...</td>\n",
              "      <td>252</td>\n",
              "      <td>213</td>\n",
              "      <td>en</td>\n",
              "      <td>1472257000572</td>\n",
              "      <td>769297455670329344</td>\n",
              "      <td>[ \"21526685\"; \"760567715979464704\"; \"722898489...</td>\n",
              "    </tr>\n",
              "    <tr>\n",
              "      <th>10225</th>\n",
              "      <td>1908002540</td>\n",
              "      <td>DukesBoots</td>\n",
              "      <td>[ \"#nationaldogday\" ]</td>\n",
              "      <td>http://pbs.twimg.com/profile_images/5807645934...</td>\n",
              "      <td>1070</td>\n",
              "      <td>1984</td>\n",
              "      <td>en</td>\n",
              "      <td>1472257754077</td>\n",
              "      <td>769297455506661376</td>\n",
              "      <td>[ \"154564075\"; \"114774201\"; \"338299807\"; \"7343...</td>\n",
              "    </tr>\n",
              "    <tr>\n",
              "      <th>10226</th>\n",
              "      <td>31087443</td>\n",
              "      <td>aniyah2105</td>\n",
              "      <td>[ \"#nationaldogday\" ]</td>\n",
              "      <td>http://pbs.twimg.com/profile_images/6214343401...</td>\n",
              "      <td>1127</td>\n",
              "      <td>2369</td>\n",
              "      <td>en</td>\n",
              "      <td>1472257002155</td>\n",
              "      <td>769297457159151616</td>\n",
              "      <td>[ \"607042548\"; \"14942684\"; \"768509276130127872...</td>\n",
              "    </tr>\n",
              "    <tr>\n",
              "      <th>10227</th>\n",
              "      <td>2557798112</td>\n",
              "      <td>chrisvk3317</td>\n",
              "      <td>[ \"#nationaldogday\" ]</td>\n",
              "      <td>http://pbs.twimg.com/profile_images/7638113776...</td>\n",
              "      <td>168</td>\n",
              "      <td>723</td>\n",
              "      <td>en</td>\n",
              "      <td>1472257315184</td>\n",
              "      <td>769297601099206656</td>\n",
              "      <td>[ \"1961640032\"; \"750396692696928256\"; \"7378308...</td>\n",
              "    </tr>\n",
              "  </tbody>\n",
              "</table>\n",
              "<p>10228 rows × 10 columns</p>\n",
              "</div>\n",
              "      <button class=\"colab-df-convert\" onclick=\"convertToInteractive('df-12762021-3218-46d3-8cdb-ed49fd145b79')\"\n",
              "              title=\"Convert this dataframe to an interactive table.\"\n",
              "              style=\"display:none;\">\n",
              "        \n",
              "  <svg xmlns=\"http://www.w3.org/2000/svg\" height=\"24px\"viewBox=\"0 0 24 24\"\n",
              "       width=\"24px\">\n",
              "    <path d=\"M0 0h24v24H0V0z\" fill=\"none\"/>\n",
              "    <path d=\"M18.56 5.44l.94 2.06.94-2.06 2.06-.94-2.06-.94-.94-2.06-.94 2.06-2.06.94zm-11 1L8.5 8.5l.94-2.06 2.06-.94-2.06-.94L8.5 2.5l-.94 2.06-2.06.94zm10 10l.94 2.06.94-2.06 2.06-.94-2.06-.94-.94-2.06-.94 2.06-2.06.94z\"/><path d=\"M17.41 7.96l-1.37-1.37c-.4-.4-.92-.59-1.43-.59-.52 0-1.04.2-1.43.59L10.3 9.45l-7.72 7.72c-.78.78-.78 2.05 0 2.83L4 21.41c.39.39.9.59 1.41.59.51 0 1.02-.2 1.41-.59l7.78-7.78 2.81-2.81c.8-.78.8-2.07 0-2.86zM5.41 20L4 18.59l7.72-7.72 1.47 1.35L5.41 20z\"/>\n",
              "  </svg>\n",
              "      </button>\n",
              "      \n",
              "  <style>\n",
              "    .colab-df-container {\n",
              "      display:flex;\n",
              "      flex-wrap:wrap;\n",
              "      gap: 12px;\n",
              "    }\n",
              "\n",
              "    .colab-df-convert {\n",
              "      background-color: #E8F0FE;\n",
              "      border: none;\n",
              "      border-radius: 50%;\n",
              "      cursor: pointer;\n",
              "      display: none;\n",
              "      fill: #1967D2;\n",
              "      height: 32px;\n",
              "      padding: 0 0 0 0;\n",
              "      width: 32px;\n",
              "    }\n",
              "\n",
              "    .colab-df-convert:hover {\n",
              "      background-color: #E2EBFA;\n",
              "      box-shadow: 0px 1px 2px rgba(60, 64, 67, 0.3), 0px 1px 3px 1px rgba(60, 64, 67, 0.15);\n",
              "      fill: #174EA6;\n",
              "    }\n",
              "\n",
              "    [theme=dark] .colab-df-convert {\n",
              "      background-color: #3B4455;\n",
              "      fill: #D2E3FC;\n",
              "    }\n",
              "\n",
              "    [theme=dark] .colab-df-convert:hover {\n",
              "      background-color: #434B5C;\n",
              "      box-shadow: 0px 1px 3px 1px rgba(0, 0, 0, 0.15);\n",
              "      filter: drop-shadow(0px 1px 2px rgba(0, 0, 0, 0.3));\n",
              "      fill: #FFFFFF;\n",
              "    }\n",
              "  </style>\n",
              "\n",
              "      <script>\n",
              "        const buttonEl =\n",
              "          document.querySelector('#df-12762021-3218-46d3-8cdb-ed49fd145b79 button.colab-df-convert');\n",
              "        buttonEl.style.display =\n",
              "          google.colab.kernel.accessAllowed ? 'block' : 'none';\n",
              "\n",
              "        async function convertToInteractive(key) {\n",
              "          const element = document.querySelector('#df-12762021-3218-46d3-8cdb-ed49fd145b79');\n",
              "          const dataTable =\n",
              "            await google.colab.kernel.invokeFunction('convertToInteractive',\n",
              "                                                     [key], {});\n",
              "          if (!dataTable) return;\n",
              "\n",
              "          const docLinkHtml = 'Like what you see? Visit the ' +\n",
              "            '<a target=\"_blank\" href=https://colab.research.google.com/notebooks/data_table.ipynb>data table notebook</a>'\n",
              "            + ' to learn more about interactive tables.';\n",
              "          element.innerHTML = '';\n",
              "          dataTable['output_type'] = 'display_data';\n",
              "          await google.colab.output.renderOutput(dataTable, element);\n",
              "          const docLink = document.createElement('div');\n",
              "          docLink.innerHTML = docLinkHtml;\n",
              "          element.appendChild(docLink);\n",
              "        }\n",
              "      </script>\n",
              "    </div>\n",
              "  </div>\n",
              "  "
            ]
          },
          "metadata": {},
          "execution_count": 31
        }
      ],
      "source": [
        "df = pd.read_csv('/content/data_twitter_formated.csv', on_bad_lines=\"skip\")\n",
        "df"
      ]
    },
    {
      "cell_type": "markdown",
      "source": [
        "Selecionando apenas as linhas que estou utilizando"
      ],
      "metadata": {
        "id": "Z51fvAeYy9kr"
      }
    },
    {
      "cell_type": "code",
      "execution_count": null,
      "metadata": {
        "colab": {
          "base_uri": "https://localhost:8080/",
          "height": 424
        },
        "id": "4JD0HyYoQn6e",
        "outputId": "95a2e770-1c21-47ff-97d9-a340aec0a487"
      },
      "outputs": [
        {
          "output_type": "execute_result",
          "data": {
            "text/plain": [
              "                       id                                            friends\n",
              "0              1969527638  [ \"1969574754\"; \"1969295556\"; \"1969284056\"; \"1...\n",
              "1                51878493  [ \"60789485\"; \"2420931980\"; \"2899776756\"; \"127...\n",
              "2              1393409100  [ \"86868062\"; \"19697415\"; \"2998836604\"; \"45629...\n",
              "3               232891415  [ \"361335082\"; \"1405248468\"; \"24626354\"; \"7256...\n",
              "4      710130422907207680  [ \"1571896093\"; \"768938323612008448\"; \"2548665...\n",
              "...                   ...                                                ...\n",
              "10223          3191601721  [ \"3410690243\"; \"1319599614\"; \"391013063\"; \"33...\n",
              "10224          1390557145  [ \"21526685\"; \"760567715979464704\"; \"722898489...\n",
              "10225          1908002540  [ \"154564075\"; \"114774201\"; \"338299807\"; \"7343...\n",
              "10226            31087443  [ \"607042548\"; \"14942684\"; \"768509276130127872...\n",
              "10227          2557798112  [ \"1961640032\"; \"750396692696928256\"; \"7378308...\n",
              "\n",
              "[10228 rows x 2 columns]"
            ],
            "text/html": [
              "\n",
              "  <div id=\"df-2b33da50-c1df-4dd4-ad0d-41cf556bc900\">\n",
              "    <div class=\"colab-df-container\">\n",
              "      <div>\n",
              "<style scoped>\n",
              "    .dataframe tbody tr th:only-of-type {\n",
              "        vertical-align: middle;\n",
              "    }\n",
              "\n",
              "    .dataframe tbody tr th {\n",
              "        vertical-align: top;\n",
              "    }\n",
              "\n",
              "    .dataframe thead th {\n",
              "        text-align: right;\n",
              "    }\n",
              "</style>\n",
              "<table border=\"1\" class=\"dataframe\">\n",
              "  <thead>\n",
              "    <tr style=\"text-align: right;\">\n",
              "      <th></th>\n",
              "      <th>id</th>\n",
              "      <th>friends</th>\n",
              "    </tr>\n",
              "  </thead>\n",
              "  <tbody>\n",
              "    <tr>\n",
              "      <th>0</th>\n",
              "      <td>1969527638</td>\n",
              "      <td>[ \"1969574754\"; \"1969295556\"; \"1969284056\"; \"1...</td>\n",
              "    </tr>\n",
              "    <tr>\n",
              "      <th>1</th>\n",
              "      <td>51878493</td>\n",
              "      <td>[ \"60789485\"; \"2420931980\"; \"2899776756\"; \"127...</td>\n",
              "    </tr>\n",
              "    <tr>\n",
              "      <th>2</th>\n",
              "      <td>1393409100</td>\n",
              "      <td>[ \"86868062\"; \"19697415\"; \"2998836604\"; \"45629...</td>\n",
              "    </tr>\n",
              "    <tr>\n",
              "      <th>3</th>\n",
              "      <td>232891415</td>\n",
              "      <td>[ \"361335082\"; \"1405248468\"; \"24626354\"; \"7256...</td>\n",
              "    </tr>\n",
              "    <tr>\n",
              "      <th>4</th>\n",
              "      <td>710130422907207680</td>\n",
              "      <td>[ \"1571896093\"; \"768938323612008448\"; \"2548665...</td>\n",
              "    </tr>\n",
              "    <tr>\n",
              "      <th>...</th>\n",
              "      <td>...</td>\n",
              "      <td>...</td>\n",
              "    </tr>\n",
              "    <tr>\n",
              "      <th>10223</th>\n",
              "      <td>3191601721</td>\n",
              "      <td>[ \"3410690243\"; \"1319599614\"; \"391013063\"; \"33...</td>\n",
              "    </tr>\n",
              "    <tr>\n",
              "      <th>10224</th>\n",
              "      <td>1390557145</td>\n",
              "      <td>[ \"21526685\"; \"760567715979464704\"; \"722898489...</td>\n",
              "    </tr>\n",
              "    <tr>\n",
              "      <th>10225</th>\n",
              "      <td>1908002540</td>\n",
              "      <td>[ \"154564075\"; \"114774201\"; \"338299807\"; \"7343...</td>\n",
              "    </tr>\n",
              "    <tr>\n",
              "      <th>10226</th>\n",
              "      <td>31087443</td>\n",
              "      <td>[ \"607042548\"; \"14942684\"; \"768509276130127872...</td>\n",
              "    </tr>\n",
              "    <tr>\n",
              "      <th>10227</th>\n",
              "      <td>2557798112</td>\n",
              "      <td>[ \"1961640032\"; \"750396692696928256\"; \"7378308...</td>\n",
              "    </tr>\n",
              "  </tbody>\n",
              "</table>\n",
              "<p>10228 rows × 2 columns</p>\n",
              "</div>\n",
              "      <button class=\"colab-df-convert\" onclick=\"convertToInteractive('df-2b33da50-c1df-4dd4-ad0d-41cf556bc900')\"\n",
              "              title=\"Convert this dataframe to an interactive table.\"\n",
              "              style=\"display:none;\">\n",
              "        \n",
              "  <svg xmlns=\"http://www.w3.org/2000/svg\" height=\"24px\"viewBox=\"0 0 24 24\"\n",
              "       width=\"24px\">\n",
              "    <path d=\"M0 0h24v24H0V0z\" fill=\"none\"/>\n",
              "    <path d=\"M18.56 5.44l.94 2.06.94-2.06 2.06-.94-2.06-.94-.94-2.06-.94 2.06-2.06.94zm-11 1L8.5 8.5l.94-2.06 2.06-.94-2.06-.94L8.5 2.5l-.94 2.06-2.06.94zm10 10l.94 2.06.94-2.06 2.06-.94-2.06-.94-.94-2.06-.94 2.06-2.06.94z\"/><path d=\"M17.41 7.96l-1.37-1.37c-.4-.4-.92-.59-1.43-.59-.52 0-1.04.2-1.43.59L10.3 9.45l-7.72 7.72c-.78.78-.78 2.05 0 2.83L4 21.41c.39.39.9.59 1.41.59.51 0 1.02-.2 1.41-.59l7.78-7.78 2.81-2.81c.8-.78.8-2.07 0-2.86zM5.41 20L4 18.59l7.72-7.72 1.47 1.35L5.41 20z\"/>\n",
              "  </svg>\n",
              "      </button>\n",
              "      \n",
              "  <style>\n",
              "    .colab-df-container {\n",
              "      display:flex;\n",
              "      flex-wrap:wrap;\n",
              "      gap: 12px;\n",
              "    }\n",
              "\n",
              "    .colab-df-convert {\n",
              "      background-color: #E8F0FE;\n",
              "      border: none;\n",
              "      border-radius: 50%;\n",
              "      cursor: pointer;\n",
              "      display: none;\n",
              "      fill: #1967D2;\n",
              "      height: 32px;\n",
              "      padding: 0 0 0 0;\n",
              "      width: 32px;\n",
              "    }\n",
              "\n",
              "    .colab-df-convert:hover {\n",
              "      background-color: #E2EBFA;\n",
              "      box-shadow: 0px 1px 2px rgba(60, 64, 67, 0.3), 0px 1px 3px 1px rgba(60, 64, 67, 0.15);\n",
              "      fill: #174EA6;\n",
              "    }\n",
              "\n",
              "    [theme=dark] .colab-df-convert {\n",
              "      background-color: #3B4455;\n",
              "      fill: #D2E3FC;\n",
              "    }\n",
              "\n",
              "    [theme=dark] .colab-df-convert:hover {\n",
              "      background-color: #434B5C;\n",
              "      box-shadow: 0px 1px 3px 1px rgba(0, 0, 0, 0.15);\n",
              "      filter: drop-shadow(0px 1px 2px rgba(0, 0, 0, 0.3));\n",
              "      fill: #FFFFFF;\n",
              "    }\n",
              "  </style>\n",
              "\n",
              "      <script>\n",
              "        const buttonEl =\n",
              "          document.querySelector('#df-2b33da50-c1df-4dd4-ad0d-41cf556bc900 button.colab-df-convert');\n",
              "        buttonEl.style.display =\n",
              "          google.colab.kernel.accessAllowed ? 'block' : 'none';\n",
              "\n",
              "        async function convertToInteractive(key) {\n",
              "          const element = document.querySelector('#df-2b33da50-c1df-4dd4-ad0d-41cf556bc900');\n",
              "          const dataTable =\n",
              "            await google.colab.kernel.invokeFunction('convertToInteractive',\n",
              "                                                     [key], {});\n",
              "          if (!dataTable) return;\n",
              "\n",
              "          const docLinkHtml = 'Like what you see? Visit the ' +\n",
              "            '<a target=\"_blank\" href=https://colab.research.google.com/notebooks/data_table.ipynb>data table notebook</a>'\n",
              "            + ' to learn more about interactive tables.';\n",
              "          element.innerHTML = '';\n",
              "          dataTable['output_type'] = 'display_data';\n",
              "          await google.colab.output.renderOutput(dataTable, element);\n",
              "          const docLink = document.createElement('div');\n",
              "          docLink.innerHTML = docLinkHtml;\n",
              "          element.appendChild(docLink);\n",
              "        }\n",
              "      </script>\n",
              "    </div>\n",
              "  </div>\n",
              "  "
            ]
          },
          "metadata": {},
          "execution_count": 32
        }
      ],
      "source": [
        "df_reduced = df[['id', 'friends']]\n",
        "df_reduced"
      ]
    },
    {
      "cell_type": "markdown",
      "source": [
        "Separando as edges juntamente com os nós, foi necessário porque o coluna de friends se torna uma lista"
      ],
      "metadata": {
        "id": "0jJapLgozFW4"
      }
    },
    {
      "cell_type": "code",
      "execution_count": null,
      "metadata": {
        "id": "YHfEN-K_c_-Q"
      },
      "outputs": [],
      "source": [
        "nodes = []\n",
        "edges = []"
      ]
    },
    {
      "cell_type": "code",
      "execution_count": null,
      "metadata": {
        "id": "p9xeGA4WaIYb"
      },
      "outputs": [],
      "source": [
        "for line in df_reduced.values.tolist():\n",
        "  userId = int(line[0])\n",
        "  nodes.append(userId)\n",
        "\n",
        "  friends = line[1].replace('[', '').replace('; ]', '').replace(']', '').replace('\"', '').split(';')\n",
        "\n",
        "  for friend in friends:\n",
        "    friend = friend.strip()\n",
        "    if friend != '':\n",
        "      friend = int(friend)\n",
        "      nodes.append(friend)\n",
        "      edges.append([userId, friend])"
      ]
    },
    {
      "cell_type": "markdown",
      "source": [
        "Criando um arquvivo apenas com os nós para usar depois sem precisar dos passos acima"
      ],
      "metadata": {
        "id": "PC7JRFozzaKL"
      }
    },
    {
      "cell_type": "code",
      "source": [
        "import csv\n",
        "\n",
        "with open('base_reduzida.csv', 'w', newline='') as csvfile:\n",
        "    fieldnames = ['userId', 'friendId']\n",
        "    writer = csv.DictWriter(csvfile, fieldnames)\n",
        "    \n",
        "    writer.writeheader()\n",
        "    for linha in edges:\n",
        "      writer.writerow({'userId': linha[0], 'friendId': linha[1]})"
      ],
      "metadata": {
        "id": "SFODFJ4tF934"
      },
      "execution_count": null,
      "outputs": []
    },
    {
      "cell_type": "markdown",
      "source": [
        "# Usando apartir da base reduzida para criar od dados"
      ],
      "metadata": {
        "id": "KN_zee0KHrsq"
      }
    },
    {
      "cell_type": "code",
      "source": [
        "df_base_reduzida = pd.read_csv('/content/base_reduzida.csv', on_bad_lines=\"skip\")"
      ],
      "metadata": {
        "id": "lgjlIM_VHvW_"
      },
      "execution_count": null,
      "outputs": []
    },
    {
      "cell_type": "markdown",
      "source": [
        "## Criando o Grafico com NetworkX"
      ],
      "metadata": {
        "id": "Zhiu8-XixM9F"
      }
    },
    {
      "cell_type": "code",
      "source": [
        "G = nx.Graph()\n",
        "\n",
        "for line in df_base_reduzida.values.tolist():\n",
        "  G.add_nodes_from(line)\n",
        "  G.add_edges_from([(line[0], line[1])])"
      ],
      "metadata": {
        "id": "hAvp0IXrIM5Q"
      },
      "execution_count": null,
      "outputs": []
    },
    {
      "cell_type": "markdown",
      "source": [
        "## Gerando o gráfico com o Pyvis"
      ],
      "metadata": {
        "id": "4gc9d3HLxTM8"
      }
    },
    {
      "cell_type": "code",
      "execution_count": null,
      "metadata": {
        "id": "aBQPZul0nwkF"
      },
      "outputs": [],
      "source": [
        "nt = Network('500px', '100%', notebook=True, cdn_resources='in_line')\n",
        "nt.from_nx(G)\n",
        "nt.show('grafico.html')\n",
        "display(HTML('grafico.html'))"
      ]
    },
    {
      "cell_type": "markdown",
      "source": [
        "# Obtendo os dados pedidos na máteria"
      ],
      "metadata": {
        "id": "s0ve0kP_zrPe"
      }
    },
    {
      "cell_type": "markdown",
      "source": [
        "## Obtendo a matriz de adjacência"
      ],
      "metadata": {
        "id": "E4jDlsJkxK1_"
      }
    },
    {
      "cell_type": "code",
      "execution_count": null,
      "metadata": {
        "id": "jPHqTCGGwlT3"
      },
      "outputs": [],
      "source": [
        "adj_matrix = nx.to_pandas_adjacency(G)\n",
        "\n",
        "plt.imshow(adj_matrix, cmap='binary', origin='upper')\n",
        "plt.xlabel('Nós')\n",
        "plt.ylabel('Nós')\n",
        "plt.title('Matriz de Adjacência')\n",
        "plt.colorbar()\n",
        "plt.show()"
      ]
    },
    {
      "cell_type": "markdown",
      "source": [
        "## Calcular o diâmetro"
      ],
      "metadata": {
        "id": "ndCZGMlewyVA"
      }
    },
    {
      "cell_type": "code",
      "source": [
        "diameter = nx.diameter(G)\n",
        "print(\"Diâmetro: \", diameter)"
      ],
      "metadata": {
        "id": "86ZtmX_TNWge"
      },
      "execution_count": null,
      "outputs": []
    },
    {
      "cell_type": "markdown",
      "source": [
        "## Calcular a periferia"
      ],
      "metadata": {
        "id": "H7KYatHTw2vh"
      }
    },
    {
      "cell_type": "code",
      "source": [
        "periphery = nx.periphery(G)\n",
        "\n",
        "print(\"Periferia: \", periphery)"
      ],
      "metadata": {
        "id": "fl0h_zqPw3_B"
      },
      "execution_count": null,
      "outputs": []
    },
    {
      "cell_type": "markdown",
      "source": [
        " ## Histograma de distribuição empírica de grau."
      ],
      "metadata": {
        "id": "dDbPtbxgw9Rc"
      }
    },
    {
      "cell_type": "code",
      "source": [
        "hist = nx.degree_histogram(G)\n",
        "degrees = list(range(len(hist)))\n",
        "frequencies = hist\n",
        "\n",
        "nt = Network(height=\"500px\", width=\"100%\", notebook=True,cdn_resources='in_line')\n",
        "nt.from_nx(G)\n",
        "\n",
        "for degree, freq in zip(degrees, frequencies):\n",
        "    nt.add_node(degree, size=freq)\n",
        "  \n",
        "nt.show(\"histograma.html\")\n",
        "display(HTML('histograma.html'))"
      ],
      "metadata": {
        "id": "UFOo2ZIhOSSI"
      },
      "execution_count": null,
      "outputs": []
    },
    {
      "cell_type": "markdown",
      "source": [
        "## Coeficiente de clustering local para nós escolhidos.\n",
        "\n"
      ],
      "metadata": {
        "id": "dqKrDiZows5J"
      }
    },
    {
      "cell_type": "code",
      "source": [
        "coefs_clustering = nx.clustering(G, [1969527638])\n",
        "coefs_clustering"
      ],
      "metadata": {
        "id": "MxjQpD1LSf0i"
      },
      "execution_count": null,
      "outputs": []
    },
    {
      "cell_type": "markdown",
      "source": [
        "## Calcular o coeficiente de clustering global"
      ],
      "metadata": {
        "id": "lHj4fEU_wqBU"
      }
    },
    {
      "cell_type": "code",
      "source": [
        "coef_clustering = nx.average_clustering(G)\n",
        "coef_clustering"
      ],
      "metadata": {
        "id": "B9KNXOuSvcZq"
      },
      "execution_count": null,
      "outputs": []
    },
    {
      "cell_type": "markdown",
      "source": [
        "## Encontrar os componentes conectados fortemente"
      ],
      "metadata": {
        "id": "BZ8sYC7ZwoP9"
      }
    },
    {
      "cell_type": "code",
      "source": [
        "componentes_fortemente = nx.strongly_connected_components(G)\n",
        "componentes_fortemente"
      ],
      "metadata": {
        "id": "mWUjTaaDvz9Z"
      },
      "execution_count": null,
      "outputs": []
    },
    {
      "cell_type": "markdown",
      "source": [
        "## Encontrar os componentes conectados fracamente"
      ],
      "metadata": {
        "id": "KEUrmbl7wlIU"
      }
    },
    {
      "cell_type": "code",
      "source": [
        "componentes_fracamente = nx.weakly_connected_components(G)\n",
        "componentes_fracamente"
      ],
      "metadata": {
        "id": "fGXv8H8ZwJvw"
      },
      "execution_count": null,
      "outputs": []
    },
    {
      "cell_type": "markdown",
      "source": [
        "## Calcular a centralidade de grau"
      ],
      "metadata": {
        "id": "u0k_h6EJwd_s"
      }
    },
    {
      "cell_type": "code",
      "source": [
        "centrality = nx.degree_centrality(G)\n",
        "\n",
        "for node, centrality_value in centrality.items():\n",
        "    print(\"Nó:\", node, \"Centralidade de Grau: \", centrality_value)"
      ],
      "metadata": {
        "id": "_m0XDEpjwc73"
      },
      "execution_count": null,
      "outputs": []
    },
    {
      "cell_type": "markdown",
      "source": [
        "## Calcular a centralidade de proximidade"
      ],
      "metadata": {
        "id": "hB5m59KF0XXb"
      }
    },
    {
      "cell_type": "code",
      "source": [
        "centrality = nx.closeness_centrality(G)\n",
        "\n",
        "for node, centrality_value in centrality.items():\n",
        "    print(\"Nó:\", node, \"Centralidade de Proximidade: \", centrality_value)"
      ],
      "metadata": {
        "id": "hFR7_J8J0WMF"
      },
      "execution_count": null,
      "outputs": []
    },
    {
      "cell_type": "markdown",
      "source": [
        "## Calcular o Betweenness centrality"
      ],
      "metadata": {
        "id": "3HGjUqhW0baL"
      }
    },
    {
      "cell_type": "code",
      "source": [
        "centrality = nx.betweenness_centrality(G)\n",
        "\n",
        "for node, centrality_value in centrality.items():\n",
        "    print(\"Nó:\", node, \"Centralidade de Intermediação: \", centrality_value)"
      ],
      "metadata": {
        "id": "WyYrf8ZM0hAH"
      },
      "execution_count": null,
      "outputs": []
    },
    {
      "cell_type": "markdown",
      "source": [
        "## Calcular a centralidade de eigenvector"
      ],
      "metadata": {
        "id": "eTUtWjik0y8G"
      }
    },
    {
      "cell_type": "code",
      "source": [
        "centrality = nx.eigenvector_centrality(G)\n",
        "\n",
        "for node, centrality_value in centrality.items():\n",
        "    print(\"Nó:\", node, \"Centralidade de Eigenvector: \", centrality_value)"
      ],
      "metadata": {
        "id": "KzFRfpLX0xLS"
      },
      "execution_count": null,
      "outputs": []
    },
    {
      "cell_type": "markdown",
      "source": [
        "## Calcular a assortatividade geral"
      ],
      "metadata": {
        "id": "K5vzT_RK1Y2Y"
      }
    },
    {
      "cell_type": "code",
      "source": [
        "assortativity = nx.degree_assortativity_coefficient(G)\n",
        "assortativity"
      ],
      "metadata": {
        "id": "IGk89FVS1Zfm"
      },
      "execution_count": null,
      "outputs": []
    }
  ],
  "metadata": {
    "colab": {
      "provenance": [],
      "machine_shape": "hm",
      "authorship_tag": "ABX9TyN32pVCq272Vq1aJ+JTTGU1",
      "include_colab_link": true
    },
    "kernelspec": {
      "display_name": "Python 3",
      "name": "python3"
    },
    "language_info": {
      "name": "python"
    },
    "accelerator": "TPU"
  },
  "nbformat": 4,
  "nbformat_minor": 0
}